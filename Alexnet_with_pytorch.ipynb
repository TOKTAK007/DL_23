{
  "nbformat": 4,
  "nbformat_minor": 0,
  "metadata": {
    "colab": {
      "provenance": [],
      "authorship_tag": "ABX9TyP6GKOlsZEY1ycYx1KpnT86",
      "include_colab_link": true
    },
    "kernelspec": {
      "name": "python3",
      "display_name": "Python 3"
    },
    "language_info": {
      "name": "python"
    }
  },
  "cells": [
    {
      "cell_type": "markdown",
      "metadata": {
        "id": "view-in-github",
        "colab_type": "text"
      },
      "source": [
        "<a href=\"https://colab.research.google.com/github/TOKTAK007/DL_23/blob/master/Alexnet_with_pytorch.ipynb\" target=\"_parent\"><img src=\"https://colab.research.google.com/assets/colab-badge.svg\" alt=\"Open In Colab\"/></a>"
      ]
    },
    {
      "cell_type": "code",
      "execution_count": 6,
      "metadata": {
        "id": "r1j71Ocf_Qui"
      },
      "outputs": [],
      "source": [
        "#-----------------------------------------------------------------------------------------#\n",
        "import numpy as np\n",
        "import matplotlib.pyplot as plt\n",
        "import pandas as pd\n",
        "import os\n",
        "from tqdm import tqdm_notebook\n",
        "import cv2\n",
        "from PIL import Image\n",
        "\n",
        "import torch\n",
        "import torch.nn as nn\n",
        "import torch.optim as optim \n",
        "import torchvision\n",
        "from torchvision import models\n",
        "from torch.utils.data import DataLoader, Dataset\n",
        "import torch.utils.data as utils\n",
        "from torchvision import transforms\n",
        "import torch.nn.functional as F\n",
        "#-----------------------------------------------------------------------------------------#\n",
        "import os\n",
        "import glob\n",
        "import torch\n",
        "import torch.nn as nn\n",
        "import torch.optim as optim\n",
        "import time\n",
        "#-----------------------------------------------------------------------------------------#\n",
        "from torch.utils.data import random_split, DataLoader\n",
        "from torchvision import transforms\n",
        "from torchsummary import summary"
      ]
    },
    {
      "cell_type": "markdown",
      "source": [
        "====================================\n",
        "\n",
        "โค้ดดังกล่าวเป็นการ import ฟังก์ชัน tqdm_notebook จากโมดูล tqdm\n",
        "\n",
        "tqdm เป็นโมดูลที่ช่วยในการแสดง progress bar ของ loop ในการประมวลผลข้อมูล โดย tqdm_notebook เป็นฟังก์ชันที่ใช้กับ Jupyter Notebook เพื่อแสดง progress bar ใน cell ของ Jupyter Notebook โดยเฉพาะ\n",
        "\n",
        "การใช้ tqdm_notebook จะช่วยให้ผู้ใช้งานสามารถติดตามการดำเนินการของโปรแกรมได้ง่ายขึ้น และทำให้การแก้ไขโค้ดหรือการปรับปรุงโมเดลสามารถดูผลอย่างรวดเร็วได้ง่ายขึ้น\n",
        "\n",
        "---\n",
        "\n"
      ],
      "metadata": {
        "id": "Co34SWQQCSo1"
      }
    },
    {
      "cell_type": "markdown",
      "source": [
        "โค้ดดังกล่าวเป็นการกำหนดค่าต่างๆ สำหรับการทำงานของโมเดล Machine Learning โดยมีค่าต่างๆ ดังนี้\n",
        "\n",
        "DATASET_PATH คือ path ที่เก็บข้อมูล (datasets) ซึ่งอยู่ในโฟลเดอร์ '../larger_than_50_MB/team_datasets/Aum/datasets'\n",
        "train_size คือขนาดของชุดข้อมูลสำหรับ train model ซึ่งเท่ากับ 70% ของข้อมูลทั้งหมด\n",
        "val_size คือขนาดของชุดข้อมูลสำหรับ validation model ซึ่งเท่ากับ 20% ของข้อมูลทั้งหมด\n",
        "test_size คือขนาดของชุดข้อมูลสำหรับทดสอบ model ซึ่งเท่ากับ 10% ของข้อมูลทั้งหมด\n",
        "seed คือค่าเริ่มต้นของ random seed ที่ใช้ในการสุ่มข้อมูล\n",
        "num_workers คือจำนวน worker ที่ใช้ในการประมวลผลข้อมูลในช่วงการ training โดยใช้ CPU ซึ่งมีจำนวน 24 ตัว\n",
        "batch_size คือจำนวนข้อมูล (ตัวอย่าง) ที่ใช้ในแต่ละรอบการสร้างโมเดล\n",
        "model_name คือชื่อของโมเดลที่ใช้ในการสร้าง (Aum)\n",
        "\n",
        "======================================="
      ],
      "metadata": {
        "id": "n53-0Xhj_qns"
      }
    },
    {
      "cell_type": "markdown",
      "source": [
        "\n",
        "\n",
        "---\n",
        "\n",
        "\n",
        "\n",
        "os เป็นโมดูลของ Python ที่ใช้สำหรับจัดการระบบปฏิบัติการ (Operating System) ในการเข้าถึงไฟล์ โฟลเดอร์ การทำงานกับ process การกำหนด permissions และการจัดการกับ environment variables ฯลฯ\n",
        "\n",
        "os ช่วยในการเข้าถึงระบบได้อย่างมีประสิทธิภาพและแม่นยำ โดยไม่จำเป็นต้องเขียนโค้ดให้ซับซ้อนเอง นอกจากนี้ os ยังช่วยในการจัดการ path ของไฟล์และโฟลเดอร์ในการเข้าถึงไฟล์อย่างสะดวกและเข้าใจง่าย\n",
        "\n",
        "\n",
        "---\n",
        "\n"
      ],
      "metadata": {
        "id": "9iwcHdGvDabX"
      }
    },
    {
      "cell_type": "code",
      "source": [
        "#Step 0: Predefined Parameters."
      ],
      "metadata": {
        "id": "ErrCN7lPFKHs"
      },
      "execution_count": null,
      "outputs": []
    },
    {
      "cell_type": "code",
      "source": [
        "DATASET_PATH = '../larger_than_50_MB/team_datasets/Aum/datasets'\n",
        "train_size = 0.7; val_size = 0.2; test_size = 0.1\n",
        "seed = 53\n",
        "num_workers = 24 # CPU\n",
        "batch_size = 32\n",
        "model_name = 'Aum'"
      ],
      "metadata": {
        "id": "mpju-g4AFKFn"
      },
      "execution_count": null,
      "outputs": []
    },
    {
      "cell_type": "markdown",
      "source": [
        "\n",
        "\n",
        "---\n",
        "โค้ดดังกล่าวเป็นการกำหนด path ของไฟล์ checkpoint ที่จะเก็บโมเดลที่ train ไว้ โดยใช้ตัวแปร CHECKPOINT_PATH เพื่อเก็บ path ของไฟล์ checkpoint\n",
        "\n",
        "โดยจะเป็นการเชื่อมต่อ path ของไดเรกทอรี '../larger_than_50_MB/save_trained_model/' กับชื่อโมเดล model_name และนามสกุลไฟล์ '.ckpt' เข้าด้วยกัน ดังนั้นจะได้ path สมบูรณ์ของไฟล์ checkpoint ที่เก็บโมเดลที่ train ไว้ในตำแหน่งที่กำหนดขึ้นมา\n",
        "\n",
        "\n",
        "---\n",
        "\n",
        "\n"
      ],
      "metadata": {
        "id": "YjyKwyXRGDdY"
      }
    },
    {
      "cell_type": "markdown",
      "source": [
        "\n",
        "\n",
        "---\n",
        ".ckpt คือนามสกุลของไฟล์ checkpoint ใน PyTorch Lightning ซึ่งใช้สำหรับเก็บโมเดลที่ train ไว้ เมื่อเรา train โมเดลด้วย PyTorch Lightning จะสร้างไฟล์ .ckpt ไว้ทุกครั้งที่เกิดการเซฟโมเดล เพื่อใช้ในการเรียกโมเดลกลับมาใช้งานต่อไป นอกจากนี้ .ckpt ยังเป็นไฟล์ที่ใช้เก็บสถานะ (state) ของโมเดล รวมถึงค่า weight, bias, optimizer state, epoch, step และอื่นๆ ซึ่งทำให้เราสามารถเรียกโมเดลกลับมา train ต่อได้โดยไม่ต้องเริ่มต้นการ train ใหม่ทั้งหมด\n",
        "\n",
        "\n",
        "---\n",
        "\n",
        "\n"
      ],
      "metadata": {
        "id": "H_H1MDDcGeNN"
      }
    },
    {
      "cell_type": "code",
      "source": [],
      "metadata": {
        "id": "q8kRi5brFKDQ"
      },
      "execution_count": null,
      "outputs": []
    },
    {
      "cell_type": "code",
      "source": [],
      "metadata": {
        "id": "k5klVewBFKAc"
      },
      "execution_count": null,
      "outputs": []
    },
    {
      "cell_type": "code",
      "source": [],
      "metadata": {
        "id": "A4BvuplUFJ-Z"
      },
      "execution_count": null,
      "outputs": []
    },
    {
      "cell_type": "code",
      "source": [],
      "metadata": {
        "id": "VXv-LbRqFJ65"
      },
      "execution_count": null,
      "outputs": []
    },
    {
      "cell_type": "code",
      "source": [],
      "metadata": {
        "id": "gPnY1PRlFJzR"
      },
      "execution_count": null,
      "outputs": []
    },
    {
      "cell_type": "code",
      "source": [],
      "metadata": {
        "id": "mWgMMLBGFJmV"
      },
      "execution_count": null,
      "outputs": []
    }
  ]
}